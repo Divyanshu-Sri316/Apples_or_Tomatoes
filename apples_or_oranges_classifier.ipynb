{
 "cells": [
  {
   "cell_type": "markdown",
   "id": "8fe63b47",
   "metadata": {},
   "source": [
    "# Identifying Apples vs Oranges using Deep Learning"
   ]
  },
  {
   "cell_type": "code",
   "execution_count": 1,
   "id": "e2380420",
   "metadata": {},
   "outputs": [],
   "source": [
    "import numpy as np\n",
    "import matplotlib.pyplot as plt\n",
    "import pandas as pd\n",
    "import seaborn as sns\n",
    "%matplotlib inline\n",
    "plt.rcParams['figure.figsize'] = [8,6]"
   ]
  },
  {
   "cell_type": "markdown",
   "id": "365c29f3",
   "metadata": {},
   "source": [
    "## Building CNN"
   ]
  },
  {
   "cell_type": "markdown",
   "id": "c8bae9c2",
   "metadata": {},
   "source": [
    "### Importing Tensorflow "
   ]
  },
  {
   "cell_type": "code",
   "execution_count": 2,
   "id": "49c49920",
   "metadata": {},
   "outputs": [
    {
     "data": {
      "text/plain": [
       "'2.10.0'"
      ]
     },
     "execution_count": 2,
     "metadata": {},
     "output_type": "execute_result"
    }
   ],
   "source": [
    "import tensorflow as tf\n",
    "tf.__version__"
   ]
  },
  {
   "cell_type": "markdown",
   "id": "36b0c879",
   "metadata": {},
   "source": [
    "### Detecting the GPU"
   ]
  },
  {
   "cell_type": "code",
   "execution_count": 3,
   "id": "7b2e1523",
   "metadata": {},
   "outputs": [
    {
     "name": "stdout",
     "output_type": "stream",
     "text": [
      "Num GPUs Available:  1\n"
     ]
    }
   ],
   "source": [
    "# Detecting whether keras API using GPU\n",
    "print(\"Num GPUs Available: \", len(tf.config.list_physical_devices('GPU')))"
   ]
  },
  {
   "cell_type": "markdown",
   "id": "1665aee0",
   "metadata": {},
   "source": [
    "### Importing the Images using Image-Generator function of Keras API"
   ]
  },
  {
   "cell_type": "code",
   "execution_count": 14,
   "id": "d56d2b3f",
   "metadata": {},
   "outputs": [
    {
     "name": "stdout",
     "output_type": "stream",
     "text": [
      "Found 294 images belonging to 2 classes.\n",
      "Found 97 images belonging to 2 classes.\n"
     ]
    }
   ],
   "source": [
    "from keras.preprocessing.image import ImageDataGenerator\n",
    "train_datagen = ImageDataGenerator(\n",
    "        rescale=1./255,\n",
    "        shear_range=0.2,\n",
    "        zoom_range=0.2,\n",
    "        horizontal_flip=True)\n",
    "\n",
    "test_datagen = ImageDataGenerator(rescale=1./255)\n",
    "\n",
    "train_generator = train_datagen.flow_from_directory(\n",
    "        r'apples_or_tomatoes\\train',\n",
    "        target_size=(64, 64),\n",
    "        batch_size=10,\n",
    "        class_mode='binary')\n",
    "\n",
    "validation_generator = test_datagen.flow_from_directory(\n",
    "        r'apples_or_tomatoes\\test',\n",
    "        target_size=(64, 64),\n",
    "        batch_size=10,\n",
    "        class_mode='binary')"
   ]
  },
  {
   "cell_type": "markdown",
   "id": "b7c907f9",
   "metadata": {},
   "source": [
    "### Visualising the dataset"
   ]
  },
  {
   "cell_type": "code",
   "execution_count": 29,
   "id": "cead216b",
   "metadata": {},
   "outputs": [
    {
     "ename": "AttributeError",
     "evalue": "'ImageDataGenerator' object has no attribute 'take'",
     "output_type": "error",
     "traceback": [
      "\u001b[1;31m---------------------------------------------------------------------------\u001b[0m",
      "\u001b[1;31mAttributeError\u001b[0m                            Traceback (most recent call last)",
      "Cell \u001b[1;32mIn [29], line 2\u001b[0m\n\u001b[0;32m      1\u001b[0m plt\u001b[38;5;241m.\u001b[39mfigure(figsize\u001b[38;5;241m=\u001b[39m(\u001b[38;5;241m10\u001b[39m, \u001b[38;5;241m10\u001b[39m))\n\u001b[1;32m----> 2\u001b[0m \u001b[38;5;28;01mfor\u001b[39;00m images, labels \u001b[38;5;129;01min\u001b[39;00m \u001b[43mtrain_datagen\u001b[49m\u001b[38;5;241;43m.\u001b[39;49m\u001b[43mtake\u001b[49m(\u001b[38;5;241m1\u001b[39m):\n\u001b[0;32m      3\u001b[0m   \u001b[38;5;28;01mfor\u001b[39;00m i \u001b[38;5;129;01min\u001b[39;00m \u001b[38;5;28mrange\u001b[39m(\u001b[38;5;241m9\u001b[39m):\n\u001b[0;32m      4\u001b[0m     ax \u001b[38;5;241m=\u001b[39m plt\u001b[38;5;241m.\u001b[39msubplot(\u001b[38;5;241m3\u001b[39m, \u001b[38;5;241m3\u001b[39m, i \u001b[38;5;241m+\u001b[39m \u001b[38;5;241m1\u001b[39m)\n",
      "\u001b[1;31mAttributeError\u001b[0m: 'ImageDataGenerator' object has no attribute 'take'"
     ]
    },
    {
     "data": {
      "text/plain": [
       "<Figure size 1000x1000 with 0 Axes>"
      ]
     },
     "metadata": {},
     "output_type": "display_data"
    }
   ],
   "source": [
    "plt.figure(figsize=(10, 10))\n",
    "for images, labels in train_generator.take(1):\n",
    "  for i in range(9):\n",
    "    ax = plt.subplot(3, 3, i + 1)\n",
    "    plt.imshow(images[i].numpy().astype(\"uint8\"))\n",
    "    plt.title(class_names[labels[i]])\n",
    "    plt.axis(\"off\")"
   ]
  },
  {
   "cell_type": "markdown",
   "id": "9160d98f",
   "metadata": {},
   "source": [
    "### Creating model using Tensorflow and later compiling it"
   ]
  },
  {
   "cell_type": "code",
   "execution_count": 25,
   "id": "c022771c",
   "metadata": {},
   "outputs": [],
   "source": [
    "# We generally start with 32 feature detectors/filters since some use CPUs\n",
    "model = tf.keras.Sequential([tf.keras.layers.Conv2D(filters=128, kernel_size= (3,3), kernel_initializer=tf.keras.initializers.he_uniform, activation = tf.keras.activations.relu, padding = 'same'),\n",
    "                             tf.keras.layers.MaxPool2D(pool_size=(2, 2), strides = 2),\n",
    "                             tf.keras.layers.Conv2D(filters=256, kernel_size= (3,3), kernel_initializer=tf.keras.initializers.he_uniform, activation = tf.keras.activations.relu, padding = 'same'),\n",
    "                             tf.keras.layers.MaxPool2D(pool_size=(2, 2), strides = 2),\n",
    "                             tf.keras.layers.Flatten(),\n",
    "                             tf.keras.layers.Dense(units = 128,kernel_initializer=tf.keras.initializers.he_uniform, activation = tf.keras.activations.relu),\n",
    "                             tf.keras.layers.Dense(units = 1, activation = tf.keras.activations.sigmoid)])"
   ]
  },
  {
   "cell_type": "code",
   "execution_count": 26,
   "id": "a6105d42",
   "metadata": {},
   "outputs": [],
   "source": [
    "# Compiling the CNN\n",
    "model.compile(optimizer = tf.keras.optimizers.SGD(learning_rate = 0.01, momentum = 0.9), loss = tf.keras.losses.BinaryCrossentropy(from_logits=False), metrics = ['accuracy'])"
   ]
  },
  {
   "cell_type": "code",
   "execution_count": 27,
   "id": "a8e71db2",
   "metadata": {},
   "outputs": [
    {
     "name": "stdout",
     "output_type": "stream",
     "text": [
      "Epoch 1/40\n",
      "29/29 [==============================] - 2s 36ms/step - loss: 1.3542 - accuracy: 0.5669 - val_loss: 0.6509 - val_accuracy: 0.6111\n",
      "Epoch 2/40\n",
      "29/29 [==============================] - 1s 20ms/step - loss: 0.6223 - accuracy: 0.6796 - val_loss: 0.6280 - val_accuracy: 0.6556\n",
      "Epoch 3/40\n",
      "29/29 [==============================] - 1s 19ms/step - loss: 0.6118 - accuracy: 0.6655 - val_loss: 0.6389 - val_accuracy: 0.6222\n",
      "Epoch 4/40\n",
      "29/29 [==============================] - 1s 20ms/step - loss: 0.6071 - accuracy: 0.6796 - val_loss: 0.6636 - val_accuracy: 0.6333\n",
      "Epoch 5/40\n",
      "29/29 [==============================] - 1s 20ms/step - loss: 0.5904 - accuracy: 0.6514 - val_loss: 0.6059 - val_accuracy: 0.6889\n",
      "Epoch 6/40\n",
      "29/29 [==============================] - 1s 20ms/step - loss: 0.5856 - accuracy: 0.6937 - val_loss: 0.5990 - val_accuracy: 0.6778\n",
      "Epoch 7/40\n",
      "29/29 [==============================] - 1s 20ms/step - loss: 0.5778 - accuracy: 0.6901 - val_loss: 0.5942 - val_accuracy: 0.7222\n",
      "Epoch 8/40\n",
      "29/29 [==============================] - 1s 20ms/step - loss: 0.5623 - accuracy: 0.7218 - val_loss: 0.5048 - val_accuracy: 0.7000\n",
      "Epoch 9/40\n",
      "29/29 [==============================] - 1s 20ms/step - loss: 0.6129 - accuracy: 0.6937 - val_loss: 0.5524 - val_accuracy: 0.6889\n",
      "Epoch 10/40\n",
      "29/29 [==============================] - 1s 19ms/step - loss: 0.5471 - accuracy: 0.7465 - val_loss: 0.5497 - val_accuracy: 0.7222\n",
      "Epoch 11/40\n",
      "29/29 [==============================] - 1s 20ms/step - loss: 0.5106 - accuracy: 0.7676 - val_loss: 0.6464 - val_accuracy: 0.7000\n",
      "Epoch 12/40\n",
      "29/29 [==============================] - 1s 20ms/step - loss: 0.5088 - accuracy: 0.7113 - val_loss: 0.5941 - val_accuracy: 0.7111\n",
      "Epoch 13/40\n",
      "29/29 [==============================] - 1s 21ms/step - loss: 0.4739 - accuracy: 0.7641 - val_loss: 0.5628 - val_accuracy: 0.7222\n",
      "Epoch 14/40\n",
      "29/29 [==============================] - 1s 20ms/step - loss: 0.4586 - accuracy: 0.7746 - val_loss: 0.6006 - val_accuracy: 0.7000\n",
      "Epoch 15/40\n",
      "29/29 [==============================] - 1s 22ms/step - loss: 0.3907 - accuracy: 0.8275 - val_loss: 0.4685 - val_accuracy: 0.7556\n",
      "Epoch 16/40\n",
      "29/29 [==============================] - 1s 22ms/step - loss: 0.3840 - accuracy: 0.8204 - val_loss: 0.4579 - val_accuracy: 0.7778\n",
      "Epoch 17/40\n",
      "29/29 [==============================] - 1s 21ms/step - loss: 0.3421 - accuracy: 0.8556 - val_loss: 0.5510 - val_accuracy: 0.7444\n",
      "Epoch 18/40\n",
      "29/29 [==============================] - 1s 21ms/step - loss: 0.4323 - accuracy: 0.8134 - val_loss: 0.5199 - val_accuracy: 0.7778\n",
      "Epoch 19/40\n",
      "29/29 [==============================] - 1s 21ms/step - loss: 0.3915 - accuracy: 0.8028 - val_loss: 0.5610 - val_accuracy: 0.7444\n",
      "Epoch 20/40\n",
      "29/29 [==============================] - 1s 20ms/step - loss: 0.2968 - accuracy: 0.8873 - val_loss: 0.6089 - val_accuracy: 0.8000\n",
      "Epoch 21/40\n",
      "29/29 [==============================] - 1s 22ms/step - loss: 0.3074 - accuracy: 0.8592 - val_loss: 0.6270 - val_accuracy: 0.7222\n",
      "Epoch 22/40\n",
      "29/29 [==============================] - 1s 23ms/step - loss: 0.2688 - accuracy: 0.8697 - val_loss: 0.6075 - val_accuracy: 0.7778\n",
      "Epoch 23/40\n",
      "29/29 [==============================] - 1s 22ms/step - loss: 0.2446 - accuracy: 0.8838 - val_loss: 0.8264 - val_accuracy: 0.7333\n",
      "Epoch 24/40\n",
      "29/29 [==============================] - 1s 22ms/step - loss: 0.3482 - accuracy: 0.8345 - val_loss: 0.8024 - val_accuracy: 0.7444\n",
      "Epoch 25/40\n",
      "29/29 [==============================] - 1s 21ms/step - loss: 0.2568 - accuracy: 0.8944 - val_loss: 0.8946 - val_accuracy: 0.7000\n",
      "Epoch 26/40\n",
      "29/29 [==============================] - 1s 20ms/step - loss: 0.3243 - accuracy: 0.8592 - val_loss: 0.6024 - val_accuracy: 0.7333\n",
      "Epoch 27/40\n",
      "29/29 [==============================] - 1s 21ms/step - loss: 0.2762 - accuracy: 0.8697 - val_loss: 0.6332 - val_accuracy: 0.7333\n",
      "Epoch 28/40\n",
      "29/29 [==============================] - 1s 24ms/step - loss: 0.2879 - accuracy: 0.8803 - val_loss: 0.7487 - val_accuracy: 0.7111\n",
      "Epoch 29/40\n",
      "29/29 [==============================] - 1s 23ms/step - loss: 0.2163 - accuracy: 0.9085 - val_loss: 0.8000 - val_accuracy: 0.7778\n",
      "Epoch 30/40\n",
      "29/29 [==============================] - 1s 22ms/step - loss: 0.1849 - accuracy: 0.9155 - val_loss: 0.9574 - val_accuracy: 0.7778\n",
      "Epoch 31/40\n",
      "29/29 [==============================] - 1s 21ms/step - loss: 0.1459 - accuracy: 0.9472 - val_loss: 0.9607 - val_accuracy: 0.7889\n",
      "Epoch 32/40\n",
      "29/29 [==============================] - 1s 21ms/step - loss: 0.2675 - accuracy: 0.8908 - val_loss: 0.6597 - val_accuracy: 0.7111\n",
      "Epoch 33/40\n",
      "29/29 [==============================] - 1s 20ms/step - loss: 0.1353 - accuracy: 0.9401 - val_loss: 0.7708 - val_accuracy: 0.7778\n",
      "Epoch 34/40\n",
      "29/29 [==============================] - 1s 22ms/step - loss: 0.1402 - accuracy: 0.9401 - val_loss: 0.9192 - val_accuracy: 0.7333\n",
      "Epoch 35/40\n",
      "29/29 [==============================] - 1s 22ms/step - loss: 0.1263 - accuracy: 0.9542 - val_loss: 0.8978 - val_accuracy: 0.7444\n",
      "Epoch 36/40\n",
      "29/29 [==============================] - 1s 20ms/step - loss: 0.1574 - accuracy: 0.9296 - val_loss: 1.2952 - val_accuracy: 0.7556\n",
      "Epoch 37/40\n",
      "29/29 [==============================] - 1s 22ms/step - loss: 0.1741 - accuracy: 0.9414 - val_loss: 0.6511 - val_accuracy: 0.7889\n",
      "Epoch 38/40\n",
      "29/29 [==============================] - 1s 27ms/step - loss: 0.1541 - accuracy: 0.9472 - val_loss: 0.7973 - val_accuracy: 0.8222\n",
      "Epoch 39/40\n",
      "29/29 [==============================] - 1s 23ms/step - loss: 0.0975 - accuracy: 0.9621 - val_loss: 0.7965 - val_accuracy: 0.7667\n",
      "Epoch 40/40\n",
      "29/29 [==============================] - 1s 21ms/step - loss: 0.0826 - accuracy: 0.9613 - val_loss: 0.8651 - val_accuracy: 0.8000\n"
     ]
    }
   ],
   "source": [
    "history = model.fit(\n",
    "        train_generator,\n",
    "        steps_per_epoch=int(294/10),\n",
    "        epochs=40,\n",
    "        validation_data=validation_generator,\n",
    "        validation_steps=int(97/10))"
   ]
  },
  {
   "cell_type": "code",
   "execution_count": 23,
   "id": "fd5fcc11",
   "metadata": {},
   "outputs": [
    {
     "data": {
      "text/plain": [
       "dict_keys(['loss', 'accuracy', 'val_loss', 'val_accuracy'])"
      ]
     },
     "execution_count": 23,
     "metadata": {},
     "output_type": "execute_result"
    }
   ],
   "source": [
    "history.history.keys()"
   ]
  },
  {
   "cell_type": "code",
   "execution_count": 24,
   "id": "a7527649",
   "metadata": {},
   "outputs": [
    {
     "data": {
      "text/plain": [
       "<matplotlib.legend.Legend at 0x2004140e310>"
      ]
     },
     "execution_count": 24,
     "metadata": {},
     "output_type": "execute_result"
    },
    {
     "data": {
      "image/png": "[encoded data removed]",
      "text/plain": [
       "<Figure size 800x600 with 1 Axes>"
      ]
     },
     "metadata": {},
     "output_type": "display_data"
    }
   ],
   "source": [
    "plt.plot(history.history[\"loss\"])\n",
    "plt.plot(history.history[\"val_loss\"])\n",
    "plt.title('Model Loss During Training or Validation')\n",
    "plt.ylabel('Training & Validation Losses')\n",
    "plt.xlabel('Epoch')\n",
    "plt.legend(['Training Loss', 'Validation Loss'])"
   ]
  },
  {
   "cell_type": "code",
   "execution_count": null,
   "id": "ae7049b4",
   "metadata": {},
   "outputs": [],
   "source": []
  },
  {
   "cell_type": "code",
   "execution_count": null,
   "id": "fcf4f96e",
   "metadata": {},
   "outputs": [],
   "source": []
  },
  {
   "cell_type": "code",
   "execution_count": null,
   "id": "65efc2be",
   "metadata": {},
   "outputs": [],
   "source": []
  },
  {
   "cell_type": "code",
   "execution_count": null,
   "id": "4470b853",
   "metadata": {},
   "outputs": [],
   "source": []
  },
  {
   "cell_type": "code",
   "execution_count": null,
   "id": "4e496149",
   "metadata": {},
   "outputs": [],
   "source": []
  }
 ],
 "metadata": {
  "kernelspec": {
   "display_name": "Python 3 (ipykernel)",
   "language": "python",
   "name": "python3"
  },
  "language_info": {
   "codemirror_mode": {
    "name": "ipython",
    "version": 3
   },
   "file_extension": ".py",
   "mimetype": "text/x-python",
   "name": "python",
   "nbconvert_exporter": "python",
   "pygments_lexer": "ipython3",
   "version": "3.9.12"
  }
 },
 "nbformat": 4,
 "nbformat_minor": 5
}
